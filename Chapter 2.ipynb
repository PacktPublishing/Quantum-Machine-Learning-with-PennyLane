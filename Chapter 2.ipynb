{
 "cells": [
  {
   "cell_type": "markdown",
   "metadata": {},
   "source": [
    "# Quantum Nodes"
   ]
  },
  {
   "cell_type": "markdown",
   "metadata": {},
   "source": [
    "import Pennylane and the numpy version from pennylane"
   ]
  },
  {
   "cell_type": "code",
   "execution_count": 7,
   "metadata": {},
   "outputs": [],
   "source": [
    "import pennylane as qml\n",
    "from pennylane import numpy as np"
   ]
  },
  {
   "cell_type": "markdown",
   "metadata": {},
   "source": [
    "Define a qnode without parameters"
   ]
  },
  {
   "cell_type": "code",
   "execution_count": 4,
   "metadata": {
    "ExecuteTime": {
     "end_time": "2021-01-07T14:10:45.484354Z",
     "start_time": "2021-01-07T14:10:45.467116Z"
    }
   },
   "outputs": [],
   "source": [
    "def quantum_function1():\n",
    "    qml.Hadamard(wires=0)\n",
    "    return qml.expval(qml.PauliZ(0))\n",
    "\n",
    "dev = qml.device('default.qubit', wires=1, shots=100, analytic=False)\n",
    "\n",
    "circ = qml.QNode(quantum_function1, dev)"
   ]
  },
  {
   "cell_type": "markdown",
   "metadata": {},
   "source": [
    "run the qnode"
   ]
  },
  {
   "cell_type": "code",
   "execution_count": 5,
   "metadata": {},
   "outputs": [
    {
     "data": {
      "text/plain": [
       "-0.14"
      ]
     },
     "execution_count": 5,
     "metadata": {},
     "output_type": "execute_result"
    }
   ],
   "source": [
    "circ()"
   ]
  },
  {
   "cell_type": "markdown",
   "metadata": {},
   "source": [
    "Define a parametrized quantum circuit and define a qnode with it"
   ]
  },
  {
   "cell_type": "code",
   "execution_count": 9,
   "metadata": {
    "ExecuteTime": {
     "end_time": "2021-01-07T14:10:46.182042Z",
     "start_time": "2021-01-07T14:10:46.172720Z"
    }
   },
   "outputs": [],
   "source": [
    "def quantum_function2(x):\n",
    "    qml.RX(x, wires=0)\n",
    "    return qml.expval(qml.PauliZ(0))\n",
    "\n",
    "circ = qml.QNode(quantum_function2, dev)"
   ]
  },
  {
   "cell_type": "markdown",
   "metadata": {},
   "source": [
    "Run the qnode for an arbitrary value of the parameter. We choose here $\\pi/2$"
   ]
  },
  {
   "cell_type": "code",
   "execution_count": 10,
   "metadata": {},
   "outputs": [
    {
     "data": {
      "text/plain": [
       "-1.0"
      ]
     },
     "execution_count": 10,
     "metadata": {},
     "output_type": "execute_result"
    }
   ],
   "source": [
    "circ(np.pi)"
   ]
  },
  {
   "cell_type": "markdown",
   "metadata": {},
   "source": [
    "Add more parameters to the quantum function. We can do this by either using separate parameters or by using a parameter list."
   ]
  },
  {
   "cell_type": "code",
   "execution_count": 12,
   "metadata": {
    "ExecuteTime": {
     "end_time": "2021-01-07T15:23:31.183121Z",
     "start_time": "2021-01-07T15:23:31.176584Z"
    }
   },
   "outputs": [
    {
     "data": {
      "text/plain": [
       "1.0"
      ]
     },
     "execution_count": 12,
     "metadata": {},
     "output_type": "execute_result"
    }
   ],
   "source": [
    "def quantum_function2(x, y):\n",
    "    qml.RX(x, wires=0)\n",
    "    qml.RX(y, wires=1)\n",
    "    qml.CNOT(wires=[0,1])\n",
    "    return qml.expval(qml.PauliZ(1))\n",
    "\n",
    "dev = qml.device('default.qubit', wires=2, shots=100, analytic=False)\n",
    "circ = qml.QNode(quantum_function2, dev)\n",
    "circ(0.0, 0.0)"
   ]
  },
  {
   "cell_type": "code",
   "execution_count": 56,
   "metadata": {
    "ExecuteTime": {
     "end_time": "2021-01-07T15:23:27.028082Z",
     "start_time": "2021-01-07T15:23:27.001514Z"
    }
   },
   "outputs": [
    {
     "data": {
      "text/plain": [
       "1.0"
      ]
     },
     "execution_count": 56,
     "metadata": {},
     "output_type": "execute_result"
    }
   ],
   "source": [
    "def quantum_function2(params):\n",
    "    qml.RX(params[0], wires=0)\n",
    "    qml.RX(params[1], wires=1)\n",
    "    qml.CNOT(wires=[0,1])\n",
    "    return qml.expval(qml.PauliZ(1))\n",
    "\n",
    "dev = qml.device('default.qubit', wires=2, shots=100, analytic=False)\n",
    "circ = qml.QNode(quantum_function2, dev)\n",
    "circ([0.0, 0.0])"
   ]
  },
  {
   "cell_type": "markdown",
   "metadata": {},
   "source": [
    "# Automatic Differentiation"
   ]
  },
  {
   "cell_type": "markdown",
   "metadata": {},
   "source": [
    "Take the gradient of a sinus function."
   ]
  },
  {
   "cell_type": "code",
   "execution_count": 15,
   "metadata": {
    "ExecuteTime": {
     "end_time": "2021-01-08T11:36:35.496050Z",
     "start_time": "2021-01-08T11:36:35.489545Z"
    }
   },
   "outputs": [],
   "source": [
    "def f(x):\n",
    "    return np.sin(x)\n",
    "g = qml.grad(f)"
   ]
  },
  {
   "cell_type": "markdown",
   "metadata": {},
   "source": [
    "Evaluate the gradient at 0.0"
   ]
  },
  {
   "cell_type": "code",
   "execution_count": 16,
   "metadata": {},
   "outputs": [
    {
     "data": {
      "text/plain": [
       "(array(1.),)"
      ]
     },
     "execution_count": 16,
     "metadata": {},
     "output_type": "execute_result"
    }
   ],
   "source": [
    "g(0.0)"
   ]
  },
  {
   "cell_type": "markdown",
   "metadata": {},
   "source": [
    "Define a qnode and take the gradient of it and evaluate it at $\\pi/2$"
   ]
  },
  {
   "cell_type": "code",
   "execution_count": 19,
   "metadata": {
    "ExecuteTime": {
     "end_time": "2021-01-08T11:56:37.141011Z",
     "start_time": "2021-01-08T11:56:37.129480Z"
    }
   },
   "outputs": [
    {
     "data": {
      "text/plain": [
       "(array(-1.),)"
      ]
     },
     "execution_count": 19,
     "metadata": {},
     "output_type": "execute_result"
    }
   ],
   "source": [
    "dev = qml.device(\"default.qubit\", wires=1)\n",
    "@qml.qnode(dev)\n",
    "def q_f(x):\n",
    "    qml.RX(x, wires=0)\n",
    "    return qml.expval(qml.PauliZ(0))\n",
    "q_g = qml.grad(q_f)\n",
    "q_g(np.pi/2)"
   ]
  },
  {
   "cell_type": "markdown",
   "metadata": {},
   "source": [
    "Combine the qnode and the sinus function to a hybrid function and take the gardient. Evaluate it at $\\pi/2$."
   ]
  },
  {
   "cell_type": "code",
   "execution_count": 24,
   "metadata": {
    "ExecuteTime": {
     "end_time": "2021-01-08T12:14:54.594516Z",
     "start_time": "2021-01-08T12:14:54.584661Z"
    }
   },
   "outputs": [
    {
     "data": {
      "text/plain": [
       "(array(-5.56784092e-17),)"
      ]
     },
     "execution_count": 24,
     "metadata": {},
     "output_type": "execute_result"
    }
   ],
   "source": [
    "def cqh_f(x):\n",
    "    out = np.sin(x)\n",
    "    out = q_f(out)\n",
    "    return out**2\n",
    "\n",
    "cqh_g = qml.grad(cqh_f)\n",
    "cqh_g(np.pi/2)"
   ]
  },
  {
   "cell_type": "markdown",
   "metadata": {},
   "source": [
    "## Draw Circuit"
   ]
  },
  {
   "cell_type": "markdown",
   "metadata": {},
   "source": [
    "Draw a quantum circuit"
   ]
  },
  {
   "cell_type": "code",
   "execution_count": 25,
   "metadata": {},
   "outputs": [
    {
     "name": "stdout",
     "output_type": "stream",
     "text": [
      " 0: ──RX(3.142)──╭C──┤     \n",
      " 1: ──RX(0.0)────╰X──┤ ⟨Z⟩ \n",
      "\n"
     ]
    }
   ],
   "source": [
    "dev = qml.device(\"default.qubit\", wires=2)\n",
    "@qml.qnode(dev)\n",
    "def circuit(x,y):\n",
    "    qml.RX(x, wires=0)\n",
    "    qml.RX(y, wires=1)\n",
    "    qml.CNOT(wires=[0,1])\n",
    "    return qml.expval(qml.PauliZ(1))\n",
    "\n",
    "circuit(np.pi, 0.0)\n",
    "print(circuit.draw())"
   ]
  },
  {
   "cell_type": "markdown",
   "metadata": {},
   "source": [
    "# *args and **kwargs\n",
    "\n",
    "Use once positional arguments explicitely and once *args."
   ]
  },
  {
   "cell_type": "code",
   "execution_count": 26,
   "metadata": {},
   "outputs": [
    {
     "data": {
      "text/plain": [
       "(15, 6)"
      ]
     },
     "execution_count": 26,
     "metadata": {},
     "output_type": "execute_result"
    }
   ],
   "source": [
    "def add1(x,y,z):\n",
    "    return x+y+z\n",
    "\n",
    "def add2(*num):\n",
    "    result = 0\n",
    "    for n in num:\n",
    "        result += n\n",
    "    return result\n",
    "\n",
    "add2(1,2,3,4,5), add1(1,2,3)"
   ]
  },
  {
   "cell_type": "markdown",
   "metadata": {},
   "source": [
    "Use one keyword arguments and once **kwargs"
   ]
  },
  {
   "cell_type": "code",
   "execution_count": 29,
   "metadata": {},
   "outputs": [
    {
     "data": {
      "text/plain": [
       "('Hello World!', 'Hello World in Python!')"
      ]
     },
     "execution_count": 29,
     "metadata": {},
     "output_type": "execute_result"
    }
   ],
   "source": [
    "def talk1(word1=\"Hello \", word2=\"World!\"):\n",
    "    return word1 + word2\n",
    "\n",
    "def talk2(**words):\n",
    "    result = \"\"\n",
    "    for word in words.values():\n",
    "        result += word\n",
    "    return result\n",
    "\n",
    "talk1(), talk2(word1 = \"Hello \", word2 = \"World \", word3=\"in \", word4=\"Python!\")"
   ]
  },
  {
   "cell_type": "markdown",
   "metadata": {},
   "source": [
    "## Quantum circuits with arsg and kwargs"
   ]
  },
  {
   "cell_type": "markdown",
   "metadata": {},
   "source": [
    "Use positional arguments for parameters and keyword arguments for data inputs"
   ]
  },
  {
   "cell_type": "code",
   "execution_count": 31,
   "metadata": {},
   "outputs": [
    {
     "data": {
      "text/plain": [
       "(array(0.), array(-0.84147098))"
      ]
     },
     "execution_count": 31,
     "metadata": {},
     "output_type": "execute_result"
    }
   ],
   "source": [
    "def quantum_function(theta1, theta2, x1=0, x2=0):\n",
    "    qml.RX(x1, wires=0)\n",
    "    qml.RY(theta1, wires=0)\n",
    "    qml.RX(x2, wires=1)\n",
    "    qml.RY(theta2, wires=1)\n",
    "    qml.CNOT(wires=[0,1])\n",
    "    return qml.expval(qml.PauliZ(1))\n",
    "dev = qml.device('default.qubit', wires=2)\n",
    "circ = qml.QNode(quantum_function, dev)  \n",
    "\n",
    "g = qml.grad(circ)\n",
    "\n",
    "g(0.0, 1.0)"
   ]
  },
  {
   "cell_type": "markdown",
   "metadata": {},
   "source": [
    "# Multiple Quantum Nodes"
   ]
  },
  {
   "cell_type": "markdown",
   "metadata": {},
   "source": [
    "Combine two quantum nodes"
   ]
  },
  {
   "cell_type": "code",
   "execution_count": 32,
   "metadata": {},
   "outputs": [
    {
     "data": {
      "text/plain": [
       "(array(0.698456),)"
      ]
     },
     "execution_count": 32,
     "metadata": {},
     "output_type": "execute_result"
    }
   ],
   "source": [
    "dev1 = qml.device(\"default.qubit\", wires=1)\n",
    "dev2 = qml.device(\"default.qubit\", wires=1)\n",
    "@qml.qnode(dev1)\n",
    "def q_f1(theta):\n",
    "    qml.RX(theta, wires=0)\n",
    "    return qml.expval(qml.PauliZ(0))\n",
    "@qml.qnode(dev2)\n",
    "def q_f2(theta):\n",
    "    qml.RX(theta, wires=0)\n",
    "    return qml.expval(qml.PauliZ(0))\n",
    "\n",
    "def f(theta):\n",
    "    out = q_f1(theta)\n",
    "    out = q_f2(out)\n",
    "    return out**2\n",
    "    \n",
    "q_g = qml.grad(f)\n",
    "q_g(np.pi*0.25)"
   ]
  },
  {
   "cell_type": "markdown",
   "metadata": {},
   "source": [
    "# Optimization"
   ]
  },
  {
   "cell_type": "markdown",
   "metadata": {},
   "source": [
    "Define a circuit and a cost function"
   ]
  },
  {
   "cell_type": "code",
   "execution_count": 36,
   "metadata": {},
   "outputs": [],
   "source": [
    "dev = qml.device(\"default.qubit\", wires=1)\n",
    "@qml.qnode(dev)\n",
    "def circuit(params, x=np.pi/2):\n",
    "    qml.RX(x, wires=0)\n",
    "    qml.RX(params[0], wires=0)\n",
    "    return qml.expval(qml.PauliZ(0))"
   ]
  },
  {
   "cell_type": "code",
   "execution_count": 38,
   "metadata": {},
   "outputs": [],
   "source": [
    "def cost(theta, x = np.pi/2):\n",
    "    return circuit(theta, x=x)"
   ]
  },
  {
   "cell_type": "markdown",
   "metadata": {},
   "source": [
    "### Fixed x\n",
    "\n",
    "Optimize the circuit above for the default input $x=\\pi/2$."
   ]
  },
  {
   "cell_type": "code",
   "execution_count": 40,
   "metadata": {},
   "outputs": [
    {
     "data": {
      "text/plain": [
       "-1.0"
      ]
     },
     "execution_count": 40,
     "metadata": {},
     "output_type": "execute_result"
    }
   ],
   "source": [
    "eta = 0.4\n",
    "opt = qml.GradientDescentOptimizer(stepsize=eta)\n",
    "steps = 100\n",
    "params = np.random.rand(1)\n",
    "\n",
    "for i in range(steps):\n",
    "    params = opt.step(cost, params)\n",
    "    \n",
    "cost(params)"
   ]
  },
  {
   "cell_type": "markdown",
   "metadata": {},
   "source": [
    "### Flexible x\n",
    "\n",
    "Optimize the above circuit for a different $x$."
   ]
  },
  {
   "cell_type": "code",
   "execution_count": 42,
   "metadata": {},
   "outputs": [
    {
     "name": "stdout",
     "output_type": "stream",
     "text": [
      "Cost after step     5:  0.7004959\n",
      "Cost after step    10: -0.8218928\n",
      "Cost after step    15: -0.9987388\n",
      "Cost after step    20: -0.9999924\n",
      "Cost after step    25: -1.0000000\n",
      "Cost after step    30: -1.0000000\n",
      "Cost after step    35: -1.0000000\n",
      "Cost after step    40: -1.0000000\n",
      "Cost after step    45: -1.0000000\n",
      "Cost after step    50: -1.0000000\n",
      "Cost after step    55: -1.0000000\n",
      "Cost after step    60: -1.0000000\n",
      "Cost after step    65: -1.0000000\n",
      "Cost after step    70: -1.0000000\n",
      "Cost after step    75: -1.0000000\n",
      "Cost after step    80: -1.0000000\n",
      "Cost after step    85: -1.0000000\n",
      "Cost after step    90: -1.0000000\n",
      "Cost after step    95: -1.0000000\n",
      "Cost after step   100: -1.0000000\n",
      "Optimized rotation angles: [3.14159265]\n"
     ]
    }
   ],
   "source": [
    "# initialise the optimizer\n",
    "opt = qml.GradientDescentOptimizer(stepsize=0.4)\n",
    "\n",
    "# set the number of steps\n",
    "steps = 100\n",
    "# set the initial parameter values\n",
    "params = np.random.rand(1)\n",
    "x = 0.0\n",
    "\n",
    "for i in range(steps):\n",
    "    # update the circuit parameters\n",
    "    params = opt.step(lambda theta : cost(theta, x=x), params)\n",
    "\n",
    "    if (i + 1) % 5 == 0:\n",
    "        print(\"Cost after step {:5d}: {: .7f}\".format(i + 1, cost(params, x=x)))\n",
    "\n",
    "print(\"Optimized rotation angles: {}\".format(params))"
   ]
  },
  {
   "cell_type": "markdown",
   "metadata": {},
   "source": [
    "# Embedding"
   ]
  },
  {
   "cell_type": "markdown",
   "metadata": {},
   "source": [
    "Use the Amplitude Embedding template"
   ]
  },
  {
   "cell_type": "code",
   "execution_count": 44,
   "metadata": {},
   "outputs": [
    {
     "data": {
      "text/plain": [
       "0.028324051382600968"
      ]
     },
     "execution_count": 44,
     "metadata": {},
     "output_type": "execute_result"
    }
   ],
   "source": [
    "number_of_wires = 2\n",
    "dev = qml.device('default.qubit', wires=number_of_wires)\n",
    "x = np.random.rand(2**number_of_wires)\n",
    "\n",
    "@qml.qnode(dev)\n",
    "def circuit(x=None):\n",
    "    qml.templates.AmplitudeEmbedding(features=x, wires=[0,1], normalize=True)\n",
    "    return qml.expval(qml.PauliZ(0))\n",
    "\n",
    "circuit(x=x)"
   ]
  },
  {
   "cell_type": "markdown",
   "metadata": {},
   "source": [
    "## Broadcast"
   ]
  },
  {
   "cell_type": "markdown",
   "metadata": {},
   "source": [
    "Use the broadcast template to apply a Pauli-X matrix on both wires 0 and 1."
   ]
  },
  {
   "cell_type": "code",
   "execution_count": 45,
   "metadata": {},
   "outputs": [
    {
     "data": {
      "text/plain": [
       "array([-1., -1.])"
      ]
     },
     "execution_count": 45,
     "metadata": {},
     "output_type": "execute_result"
    }
   ],
   "source": [
    "@qml.qnode(dev)\n",
    "def circuit(state=None):\n",
    "    qml.broadcast(unitary=qml.PauliX, wires=[0,1], pattern=\"single\")\n",
    "    return [qml.expval(qml.PauliZ(i)) for i in range(number_of_wires)]\n",
    "\n",
    "circuit()"
   ]
  },
  {
   "cell_type": "markdown",
   "metadata": {},
   "source": [
    "Use broadcast to apply CNOT on consecutive wires."
   ]
  },
  {
   "cell_type": "code",
   "execution_count": 49,
   "metadata": {},
   "outputs": [
    {
     "data": {
      "text/plain": [
       "1.0"
      ]
     },
     "execution_count": 49,
     "metadata": {},
     "output_type": "execute_result"
    }
   ],
   "source": [
    "pattern = [[0,1], [1,2], [0,2]]\n",
    "dev = qml.device('default.qubit', wires=3)\n",
    "@qml.qnode(dev)\n",
    "def circuit():\n",
    "    qml.broadcast(unitary=qml.CNOT, pattern=pattern, wires=[0,1,2])\n",
    "    return qml.expval(qml.PauliZ(0))\n",
    "\n",
    "circuit()"
   ]
  },
  {
   "cell_type": "markdown",
   "metadata": {},
   "source": [
    "## Custom Template"
   ]
  },
  {
   "cell_type": "markdown",
   "metadata": {},
   "source": [
    "Use a custom templates to make it invertible."
   ]
  },
  {
   "cell_type": "code",
   "execution_count": 53,
   "metadata": {},
   "outputs": [
    {
     "data": {
      "text/plain": [
       "array([1., 1.])"
      ]
     },
     "execution_count": 53,
     "metadata": {},
     "output_type": "execute_result"
    }
   ],
   "source": [
    "dev = qml.device('default.qubit', wires=2)\n",
    "\n",
    "@qml.template\n",
    "def Double_RX():\n",
    "    qml.RX(0.5, wires=0)\n",
    "    qml.RX(0.8, wires=1)\n",
    "    \n",
    "@qml.qnode(dev)\n",
    "def circuit(state=None):\n",
    "    Double_RX()\n",
    "    qml.inv(Double_RX())\n",
    "    return [qml.expval(qml.PauliZ(i)) for i in range(number_of_wires)]\n",
    "\n",
    "circuit()"
   ]
  },
  {
   "cell_type": "markdown",
   "metadata": {},
   "source": [
    "Draw the circuit"
   ]
  },
  {
   "cell_type": "code",
   "execution_count": 54,
   "metadata": {},
   "outputs": [
    {
     "name": "stdout",
     "output_type": "stream",
     "text": [
      " 0: ──RX(0.5)──RX(0.5)⁻¹──┤ ⟨Z⟩ \n",
      " 1: ──RX(0.8)──RX(0.8)⁻¹──┤ ⟨Z⟩ \n",
      "\n"
     ]
    }
   ],
   "source": [
    "print(circuit.draw())"
   ]
  },
  {
   "cell_type": "markdown",
   "metadata": {},
   "source": [
    "## parameter initialization"
   ]
  },
  {
   "cell_type": "markdown",
   "metadata": {},
   "source": [
    "Use the parameter initialization module to initialize the BasicEntangler template"
   ]
  },
  {
   "cell_type": "code",
   "execution_count": 55,
   "metadata": {},
   "outputs": [
    {
     "data": {
      "text/plain": [
       "(5, 3)"
      ]
     },
     "execution_count": 55,
     "metadata": {},
     "output_type": "execute_result"
    }
   ],
   "source": [
    "n_wires = 3\n",
    "n_layers = 5\n",
    "dev = qml.device('default.qubit', wires=n_wires)\n",
    "\n",
    "weights = qml.init.basic_entangler_layers_uniform(n_layers, n_wires)\n",
    "\n",
    "@qml.qnode(dev)\n",
    "def circuit(weights):\n",
    "    qml.templates.BasicEntanglerLayers(weights=weights, wires=range(n_wires))\n",
    "    return [qml.expval(qml.PauliZ(wires=i)) for i in range(n_wires)]\n",
    "\n",
    "circuit(weights)\n",
    "\n",
    "weights.shape"
   ]
  },
  {
   "cell_type": "markdown",
   "metadata": {},
   "source": [
    "## Integration other deep learning libraries"
   ]
  },
  {
   "cell_type": "markdown",
   "metadata": {},
   "source": [
    "### Autograd\n",
    "\n",
    "Use autograd for the circuit optimization"
   ]
  },
  {
   "cell_type": "code",
   "execution_count": 56,
   "metadata": {},
   "outputs": [],
   "source": [
    "dev = qml.device(\"default.qubit\", wires=1)\n",
    "eta = 0.4\n",
    "steps = 100\n",
    "\n",
    "def circuit(params, x=np.pi/2):\n",
    "    qml.RX(x, wires=0)\n",
    "    qml.RX(params[0], wires=0)\n",
    "    return qml.expval(qml.PauliZ(0))"
   ]
  },
  {
   "cell_type": "code",
   "execution_count": 58,
   "metadata": {},
   "outputs": [],
   "source": [
    "def cost(theta, circ = None, x = np.pi/2):\n",
    "    return circ(theta, x=x)"
   ]
  },
  {
   "cell_type": "code",
   "execution_count": 61,
   "metadata": {},
   "outputs": [
    {
     "data": {
      "text/plain": [
       "-1.0"
      ]
     },
     "execution_count": 61,
     "metadata": {},
     "output_type": "execute_result"
    }
   ],
   "source": [
    "qcirc_ag = qml.QNode(circuit, dev)\n",
    "\n",
    "opt = qml.GradientDescentOptimizer(stepsize=eta)\n",
    "params = np.random.rand(1)\n",
    "\n",
    "for i in range(steps):\n",
    "    params = opt.step(lambda theta : cost(theta, circ=qcirc_ag, x=np.pi/2), params)\n",
    "    \n",
    "qcirc_ag(params)"
   ]
  },
  {
   "cell_type": "markdown",
   "metadata": {},
   "source": [
    "### Tensorflow"
   ]
  },
  {
   "cell_type": "code",
   "execution_count": 64,
   "metadata": {},
   "outputs": [],
   "source": [
    "import tensorflow as tf"
   ]
  },
  {
   "cell_type": "code",
   "execution_count": 66,
   "metadata": {},
   "outputs": [
    {
     "data": {
      "text/plain": [
       "<tf.Tensor: id=3146, shape=(), dtype=float64, numpy=-1.0>"
      ]
     },
     "execution_count": 66,
     "metadata": {},
     "output_type": "execute_result"
    }
   ],
   "source": [
    "qcirc_tf = qml.QNode(circuit, dev, interface=\"tf\")\n",
    "\n",
    "params = tf.Variable(np.random.rand(1), dtype=tf.float64)\n",
    "\n",
    "opt = tf.keras.optimizers.SGD(learning_rate=eta)\n",
    "\n",
    "for i in range(steps):\n",
    "    with tf.GradientTape() as tape:\n",
    "        loss = cost(params, circ=qcirc_tf, x=np.pi/2)\n",
    "\n",
    "    gradients = tape.gradient(loss, [params])\n",
    "    opt.apply_gradients(zip(gradients, [params]))\n",
    "    \n",
    "qcirc_tf(params)"
   ]
  },
  {
   "cell_type": "markdown",
   "metadata": {},
   "source": [
    "### Pytorch"
   ]
  },
  {
   "cell_type": "code",
   "execution_count": 67,
   "metadata": {},
   "outputs": [],
   "source": [
    "import torch"
   ]
  },
  {
   "cell_type": "code",
   "execution_count": 69,
   "metadata": {},
   "outputs": [
    {
     "data": {
      "text/plain": [
       "tensor(-1., dtype=torch.float64, grad_fn=<_TorchQNodeBackward>)"
      ]
     },
     "execution_count": 69,
     "metadata": {},
     "output_type": "execute_result"
    }
   ],
   "source": [
    "qcirc_pt = qml.QNode(circuit, dev, interface=\"torch\")\n",
    "\n",
    "params = torch.tensor(np.random.rand(1), dtype=torch.float64, requires_grad=True)\n",
    "\n",
    "opt = torch.optim.SGD([params], lr = eta)\n",
    "\n",
    "for i in range(steps):\n",
    "    loss = cost(params, circ=qcirc_pt, x=np.pi/2)\n",
    "    opt.zero_grad()\n",
    "    loss.backward()\n",
    "    opt.step()\n",
    "    \n",
    "qcirc_pt(params)"
   ]
  },
  {
   "cell_type": "markdown",
   "metadata": {},
   "source": [
    "## Hybrid\n",
    "\n",
    "Define a hybrid quantum classical function and optimize it in torch"
   ]
  },
  {
   "cell_type": "code",
   "execution_count": 72,
   "metadata": {},
   "outputs": [
    {
     "data": {
      "text/plain": [
       "tensor(-0.6866, dtype=torch.float64, grad_fn=<TanhBackward>)"
      ]
     },
     "execution_count": 72,
     "metadata": {},
     "output_type": "execute_result"
    }
   ],
   "source": [
    "np.random.seed(1)\n",
    "qcirc_pt = qml.QNode(circuit, dev, interface=\"torch\")\n",
    "params = torch.tensor(np.random.rand(1), dtype=torch.float64, requires_grad=True)\n",
    "\n",
    "steps = 100\n",
    "\n",
    "def cost_hybrid_pt(theta, x = np.pi/2):\n",
    "    out = torch.sin(theta)\n",
    "    out = qcirc_pt(out, x=x)\n",
    "    return torch.tanh(out)\n",
    "\n",
    "opt = torch.optim.SGD([params], lr = eta)\n",
    "\n",
    "for i in range(steps):\n",
    "    loss = cost_hybrid_pt(params, x=np.pi/2)\n",
    "    opt.zero_grad()\n",
    "    loss.backward()\n",
    "    opt.step()\n",
    "    \n",
    "cost_hybrid_pt(params)"
   ]
  },
  {
   "cell_type": "markdown",
   "metadata": {},
   "source": [
    "Use the same function and optimize it in tensorflow"
   ]
  },
  {
   "cell_type": "code",
   "execution_count": 74,
   "metadata": {},
   "outputs": [
    {
     "data": {
      "text/plain": [
       "<tf.Tensor: id=6496, shape=(), dtype=float64, numpy=-0.6865874069965548>"
      ]
     },
     "execution_count": 74,
     "metadata": {},
     "output_type": "execute_result"
    }
   ],
   "source": [
    "np.random.seed(1)\n",
    "qcirc_tf = qml.QNode(circuit, dev, interface=\"tf\")\n",
    "params = tf.Variable(np.random.rand(1), dtype=tf.float64)\n",
    "opt = tf.keras.optimizers.SGD(learning_rate=eta)\n",
    "\n",
    "def cost_hybrid_tf(theta, x = np.pi/2):\n",
    "    out = tf.sin(theta)\n",
    "    out = qcirc_tf(out, x=x)\n",
    "    return tf.tanh(out)\n",
    "\n",
    "for i in range(steps):\n",
    "    with tf.GradientTape() as tape:\n",
    "        loss = cost_hybrid_tf(params, x=np.pi/2)\n",
    "\n",
    "    gradients = tape.gradient(loss, [params])\n",
    "    opt.apply_gradients(zip(gradients, [params]))\n",
    "    \n",
    "cost_hybrid_tf(params)"
   ]
  },
  {
   "cell_type": "markdown",
   "metadata": {},
   "source": [
    "## Torch Layers\n",
    "\n",
    "Take a qnode and convert it into a torch layer. This way you can add new torch layers to pre and post-process the qnodes input and output."
   ]
  },
  {
   "cell_type": "code",
   "execution_count": 80,
   "metadata": {},
   "outputs": [],
   "source": [
    "n_qubits = 2\n",
    "dev = qml.device(\"default.qubit\", wires=n_qubits)\n",
    "\n",
    "@qml.qnode(dev)\n",
    "def qnode(inputs, weights0, weights1, weights2):\n",
    "    qml.RX(inputs[0], wires=0)\n",
    "    qml.RX(inputs[1], wires=1)\n",
    "    qml.RX(weights0, wires=0)\n",
    "    qml.RX(weights1, wires=1)\n",
    "    qml.templates.StronglyEntanglingLayers(weights2, wires=range(n_qubits))\n",
    "    return qml.expval(qml.PauliZ(0)), qml.expval(qml.PauliZ(1))\n",
    "\n",
    "weight_shapes = {\"weights0\": 1, \"weights1\": 1, \"weights2\": (3, n_qubits, 3)}\n",
    "\n",
    "qlayer_torch = qml.qnn.TorchLayer(qnode, weight_shapes)\n",
    "clayer1 = torch.nn.Linear(2, 2)\n",
    "clayer2 = torch.nn.Linear(2, 2)\n",
    "model_torch = torch.nn.Sequential(clayer1, qlayer_torch, clayer2)\n",
    "\n",
    "opt = torch.optim.SGD(model_torch.parameters(), lr=0.5)\n",
    "loss = torch.nn.L1Loss()"
   ]
  },
  {
   "cell_type": "code",
   "execution_count": 81,
   "metadata": {},
   "outputs": [
    {
     "data": {
      "text/plain": [
       "tensor([-0.3362, -0.3828], grad_fn=<AddBackward0>)"
      ]
     },
     "execution_count": 81,
     "metadata": {},
     "output_type": "execute_result"
    }
   ],
   "source": [
    "x = torch.tensor(np.random.rand(2), dtype=torch.float)\n",
    "model_torch(x)"
   ]
  },
  {
   "cell_type": "markdown",
   "metadata": {},
   "source": [
    "## Keras Layer\n",
    "\n",
    "Do the same for Tensorflow Keras Layers."
   ]
  },
  {
   "cell_type": "code",
   "execution_count": 82,
   "metadata": {},
   "outputs": [
    {
     "data": {
      "text/plain": [
       "<tf.Tensor: id=6712, shape=(1, 2), dtype=float32, numpy=array([[-0.5499054 ,  0.04294402]], dtype=float32)>"
      ]
     },
     "execution_count": 82,
     "metadata": {},
     "output_type": "execute_result"
    }
   ],
   "source": [
    "qlayer_keras = qml.qnn.KerasLayer(qnode, weight_shapes, output_dim=2)\n",
    "clayer1 = tf.keras.layers.Dense(2)\n",
    "clayer2 = tf.keras.layers.Dense(2)\n",
    "model_tf = tf.keras.models.Sequential([clayer1, qlayer_keras, clayer2])\n",
    "\n",
    "x = tf.constant([np.random.rand(2)], dtype=tf.float32)\n",
    "model_tf(x)"
   ]
  }
 ],
 "metadata": {
  "kernelspec": {
   "display_name": "Python 3",
   "language": "python",
   "name": "python3"
  },
  "language_info": {
   "codemirror_mode": {
    "name": "ipython",
    "version": 3
   },
   "file_extension": ".py",
   "mimetype": "text/x-python",
   "name": "python",
   "nbconvert_exporter": "python",
   "pygments_lexer": "ipython3",
   "version": "3.7.9"
  },
  "toc": {
   "base_numbering": 1,
   "nav_menu": {},
   "number_sections": true,
   "sideBar": true,
   "skip_h1_title": false,
   "title_cell": "Table of Contents",
   "title_sidebar": "Contents",
   "toc_cell": false,
   "toc_position": {},
   "toc_section_display": true,
   "toc_window_display": false
  },
  "varInspector": {
   "cols": {
    "lenName": 16,
    "lenType": 16,
    "lenVar": 40
   },
   "kernels_config": {
    "python": {
     "delete_cmd_postfix": "",
     "delete_cmd_prefix": "del ",
     "library": "var_list.py",
     "varRefreshCmd": "print(var_dic_list())"
    },
    "r": {
     "delete_cmd_postfix": ") ",
     "delete_cmd_prefix": "rm(",
     "library": "var_list.r",
     "varRefreshCmd": "cat(var_dic_list()) "
    }
   },
   "types_to_exclude": [
    "module",
    "function",
    "builtin_function_or_method",
    "instance",
    "_Feature"
   ],
   "window_display": false
  }
 },
 "nbformat": 4,
 "nbformat_minor": 4
}
